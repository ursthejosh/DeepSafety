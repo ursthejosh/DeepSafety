{
 "cells": [
  {
   "attachments": {},
   "cell_type": "markdown",
   "metadata": {},
   "source": [
    "# This notebook deals with the setup of a new and better validation batch\n",
    "\n",
    "It defines the metrics on which the pictures for the validation batch are chosen and how they are implemented to get a suitable validation batch.\n",
    "\n",
    "In the first code cell a model, which was trained to get a view on how to choose a validation set, will be loaded. This leads to review the issues regarding the given safety batches."
   ]
  },
  {
   "cell_type": "code",
   "execution_count": 15,
   "metadata": {},
   "outputs": [],
   "source": [
    "# Imports and loading of a trained model\n",
    "\n",
    "import numpy as np\n",
    "import tensorflow as tf\n",
    "import pandas as pd\n",
    "import os\n",
    "import csv\n",
    "import shutil\n",
    "\n",
    "model_name = \"1686131862\"\n",
    "import_path = \"./tmp/saved_models/{}\".format(int(model_name))\n",
    "model = tf.keras.models.load_model(import_path)"
   ]
  },
  {
   "attachments": {},
   "cell_type": "markdown",
   "metadata": {},
   "source": [
    "\n"
   ]
  },
  {
   "attachments": {},
   "cell_type": "markdown",
   "metadata": {},
   "source": [
    "## Creating the own validation batch\n",
    "\n",
    "To create the validation batch, all the pictures from the Test dataset may be used. \n",
    "They can be used because they fulfill the requirement to not be yet used in the training set.\n",
    "\n",
    "Firstly the *Test.csv* file is used to get the connection between ClassId and the respective *.png* file. "
   ]
  },
  {
   "cell_type": "code",
   "execution_count": 16,
   "metadata": {},
   "outputs": [],
   "source": [
    "\n",
    "csv_path = 'data/Test.csv'\n",
    "origin_folder = 'data/'\n",
    "target_folder = 'safetyBatches/Test/'\n",
    "\n",
    "if not os.path.exists(target_folder):\n",
    "    os.makedirs(target_folder)\n",
    "\n",
    "\n",
    "with open(csv_path, 'r') as csv_file:\n",
    "    reader = csv.DictReader(csv_file)\n",
    "\n",
    "    total = sum(1 for row in reader)\n",
    "    csv_file.seek(0)\n",
    "    next(reader)\n",
    "\n",
    "    for row in reader:\n",
    "        class_id = row['ClassId']\n",
    "        picture_path = row['Path']\n",
    "        target_folder = os.path.join(target_folder, class_id)\n",
    "        if not os.path.exists(target_folder):\n",
    "            os.makedirs(target_folder)\n",
    "        complete_picture_path = os.path.join(origin_folder, picture_path)\n",
    "        \n",
    "        if os.path.exists(complete_picture_path):\n",
    "            target_picture_path = os.path.join(target_folder, os.path.basename(picture_path))\n",
    "            shutil.copy(complete_picture_path, target_picture_path)\n",
    "\n",
    "        else:\n",
    "            print(f\"Das Bild {picture_path} existiert nicht.\")\n",
    "            "
   ]
  }
 ],
 "metadata": {
  "kernelspec": {
   "display_name": ".venv",
   "language": "python",
   "name": "python3"
  },
  "language_info": {
   "codemirror_mode": {
    "name": "ipython",
    "version": 3
   },
   "file_extension": ".py",
   "mimetype": "text/x-python",
   "name": "python",
   "nbconvert_exporter": "python",
   "pygments_lexer": "ipython3",
   "version": "3.9.0"
  },
  "orig_nbformat": 4
 },
 "nbformat": 4,
 "nbformat_minor": 2
}
